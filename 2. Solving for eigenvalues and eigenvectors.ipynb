{
 "cells": [
  {
   "cell_type": "markdown",
   "metadata": {},
   "source": [
    "## Solving for eigenvalues and eigenvectors\n",
    "\n",
    "We saw in the previous notebook how to set up a matrix by integrating between pairs of basis functions.  In this notebook we will solve for the eigenvalues and eigenvectors of the Hamiltonian for a square well, exploring what happens when we use a finite basis set, and introduce changes to the potential in the square well."
   ]
  },
  {
   "cell_type": "markdown",
   "metadata": {},
   "source": [
    "### Eigenbasis, adding potential\n",
    "\n",
    "We will start by using the eigenbasis (since it's simple) and will add small changes to the potential.  This will give us some insight into the effect of perturbations (and will feed directly into our studies of perturbation theory).  So we'll first set up the bits and pieces of code we'll need, some taken from the previous notebook."
   ]
  },
  {
   "cell_type": "code",
   "execution_count": 5,
   "metadata": {
    "collapsed": false
   },
   "outputs": [],
   "source": [
    "# Import libraries and set up in-line plotting.\n",
    "%matplotlib inline\n",
    "import matplotlib.pyplot as pl\n",
    "import numpy as np\n",
    "# This is a new library - linear algebra includes solving for eigenvalues & eigenvectors of matrices\n",
    "import numpy.linalg as la\n",
    "\n",
    "# Define the eigenbasis - normalisation needed elsewhere\n",
    "def eigenbasis_sw(n,width,norm,x):\n",
    "    \"\"\"The eigenbasis for a square well, running from 0 to a, sin(n pi x/a)\"\"\"\n",
    "    fac = np.pi*n/width\n",
    "    return norm*np.sin(fac*x)\n",
    "\n",
    "# We will also define the second derivative for kinetic energy (KE)\n",
    "def d2eigenbasis_sw(n,width,norm,x):\n",
    "    \"\"\"The eigenbasis for a square well, running from 0 to a, sin(n pi x/a)\"\"\"\n",
    "    fac = np.pi*n/width\n",
    "    return -fac*fac*norm*np.sin(fac*x)\n",
    "\n",
    "# Define the x-axis\n",
    "width = 1.0\n",
    "num_x_points = 101\n",
    "x = np.linspace(0.0,width,num_x_points)\n",
    "dx = width/(num_x_points - 1)\n",
    "\n",
    "# Integrate two functions over the width of the well\n",
    "def integrate_functions(f1,f2,size_x,dx):\n",
    "    \"\"\"Integrate two functions over defined x range\"\"\"\n",
    "    sum = 0.0\n",
    "    for i in range(size_x):\n",
    "        sum = sum + f1[i]*f2[i]\n",
    "    sum = sum*dx\n",
    "    return sum\n",
    "\n",
    "# Now set up the array of basis functions - specify the size of the basis\n",
    "num_basis = 10\n",
    "# These arrays will each hold an array of functions\n",
    "basis_array = np.zeros((num_basis,num_x_points))\n",
    "d2basis_array = np.zeros((num_basis,num_x_points))\n",
    "\n",
    "# Loop over first num_basis basis states, normalise and create an array\n",
    "# NB the basis_array will start from 0\n",
    "for i in range(num_basis):\n",
    "    n = i+1\n",
    "    # Calculate A = <phi_n|phi_n>\n",
    "    integral = integrate_functions(eigenbasis_sw(n,width,1.0,x),eigenbasis_sw(n,width,1.0,x),num_x_points,dx)\n",
    "    # Use 1/sqrt{A} as normalisation constant\n",
    "    normalisation = 1.0/np.sqrt(integral)\n",
    "    basis_array[i,:] = eigenbasis_sw(n,width,normalisation,x)\n",
    "    d2basis_array[i,:] = d2eigenbasis_sw(n,width,normalisation,x)"
   ]
  },
  {
   "cell_type": "markdown",
   "metadata": {},
   "source": [
    "We have now set up all the mechanics that we need to create matrices for different Hamiltonians, except for one thing: the potential.  We have an implicit potential already in the infinite square well (we set $V=\\infty$ when $x=0$ or $x=a$).  If we create a potential function, then we can change this and create different Hamiltonian matrices.  So we'll do this next."
   ]
  },
  {
   "cell_type": "code",
   "execution_count": 6,
   "metadata": {
    "collapsed": false
   },
   "outputs": [
    {
     "data": {
      "image/png": "[encoded data removed]",
      "text/plain": [
       "<matplotlib.figure.Figure at 0x10a6ea750>"
      ]
     },
     "metadata": {},
     "output_type": "display_data"
    }
   ],
   "source": [
    "# Define the potential in the square well\n",
    "def square_well_potential(x,V,a):\n",
    "    \"\"\"Potential for a particle in a square well, expecting two arrays: x, V(x), and potential height, a\"\"\"\n",
    "    for i in range(x.size):\n",
    "        V[i] = 0.0\n",
    "    # Let's define a small bump in the middle of the well\n",
    "    i_mid = x.size/2\n",
    "    V[i_mid-1] = a\n",
    "    V[i_mid] = a\n",
    "    V[i_mid+1] = a\n",
    "    # Plot to ensure that we know what we're getting\n",
    "    pl.plot(x,V)\n",
    "    \n",
    "# Declare space for this potential (Vbump) and call the routine\n",
    "Vbump = np.linspace(0.0,width,num_x_points)\n",
    "pot_bump = square_well_potential(x,Vbump,0.5)"
   ]
  },
  {
   "cell_type": "markdown",
   "metadata": {},
   "source": [
    "### Solving for the eigenvalues\n",
    "\n",
    "Now that we have the potential, we need to build the matrix (remember that we have set $\\hbar = m = 1$):\n",
    "\n",
    "$H_{mn} = \\langle \\phi_m \\vert -\\frac{1}{2}\\nabla^2 + \\hat{V}\\vert\\phi_n\\rangle$\n",
    "\n",
    "By diagonalisation, we will find the eigenvalues.\n",
    "\n",
    "It's worth noting that we act with $\\hat{V}$ by multiplication in position representation:\n",
    "\n",
    "$$\\langle x \\vert \\hat{V} \\vert \\phi_m\\rangle = V(x) \\phi_m(x)$$\n",
    "\n",
    "Then we make matrix elements by integration in position representation; as we've defined a grid on which to represent the system, we'll just sum over the values on the grid (though there are much more accurate ways to do numerical integration).\n",
    "\n",
    "$$H_{ij} = \\langle \\phi_i \\vert \\hat{H} \\vert \\phi_j \\rangle = \\int dx \\phi_i^\\star(x) \\hat{H} \\phi_j(x)$$\n",
    "\n",
    "We will print out the matrix of _just_ the potential first: $\\langle \\phi_m \\vert \\hat{V} \\vert \\phi_n\\rangle$.  This will be useful when thinking about perturbation theory (the change in eigenvalues should be the same as the diagonal elements of the potential matrix, to first order in the potential)."
   ]
  },
  {
   "cell_type": "code",
   "execution_count": 7,
   "metadata": {
    "collapsed": false
   },
   "outputs": [
    {
     "name": "stdout",
     "output_type": "stream",
     "text": [
      "Potential matrix elements:\n",
      "   0.030    0.000   -0.030   -0.000    0.030    0.000   -0.030   -0.000    0.029    0.000\n",
      "   0.000    0.000   -0.000   -0.000    0.000    0.000   -0.000   -0.000    0.000    0.000\n",
      "  -0.030   -0.000    0.030    0.000   -0.030   -0.000    0.029    0.000   -0.029   -0.000\n",
      "  -0.000   -0.000    0.000    0.000   -0.000   -0.000    0.000    0.001   -0.000   -0.001\n",
      "   0.030    0.000   -0.030   -0.000    0.030    0.000   -0.029   -0.000    0.029    0.000\n",
      "   0.000    0.000   -0.000   -0.000    0.000    0.001   -0.000   -0.001    0.000    0.001\n",
      "  -0.030   -0.000    0.029    0.000   -0.029   -0.000    0.029    0.000   -0.029   -0.000\n",
      "  -0.000   -0.000    0.000    0.001   -0.000   -0.001    0.000    0.001   -0.000   -0.002\n",
      "   0.029    0.000   -0.029   -0.000    0.029    0.000   -0.029   -0.000    0.028    0.000\n",
      "   0.000    0.000   -0.000   -0.001    0.000    0.001   -0.000   -0.002    0.000    0.002\n",
      "\n",
      "Full Hamiltonian\n",
      "   4.965   -0.000   -0.030   -0.000    0.030    0.000   -0.030   -0.000    0.029   -0.000\n",
      "  -0.000   19.739    0.000   -0.000   -0.000    0.000    0.000   -0.000   -0.000    0.000\n",
      "  -0.030   -0.000   44.443    0.000   -0.030    0.000    0.029   -0.000   -0.029    0.000\n",
      "  -0.000   -0.000    0.000   78.957    0.000   -0.000   -0.000    0.001   -0.000   -0.001\n",
      "   0.030    0.000   -0.030    0.000  123.400    0.000   -0.029    0.000    0.029   -0.000\n",
      "   0.000    0.000    0.000   -0.000    0.000  177.654    0.000   -0.001    0.000    0.001\n",
      "  -0.030    0.000    0.029   -0.000   -0.029   -0.000  241.834   -0.000   -0.029   -0.000\n",
      "   0.000   -0.000   -0.000    0.001    0.000   -0.001   -0.000  315.829   -0.000   -0.002\n",
      "   0.029   -0.000   -0.029   -0.000    0.029    0.000   -0.029   -0.000  399.747    0.000\n",
      "  -0.000    0.000    0.000   -0.001   -0.000    0.001   -0.000   -0.002    0.000  493.482\n"
     ]
    }
   ],
   "source": [
    "# Declare space for the matrix elements - simplest with the identity function\n",
    "Hmat = np.eye(num_basis)\n",
    "\n",
    "# Define a function to act on a basis function with the potential\n",
    "def add_pot_on_basis(Hphi,V,phi):\n",
    "    for i in range(V.size):\n",
    "        Hphi[i] = Hphi[i] + V[i]*phi[i]\n",
    "        \n",
    "print \"Potential matrix elements:\"\n",
    "# Loop over basis functions phi_n (the bra in the matrix element)\n",
    "# Calculate and output matrix elements of the potential\n",
    "\n",
    "for n in range(num_basis):\n",
    "    # Loop over basis functions phi_m (the ket in the matrix element)\n",
    "    for m in range(num_basis):\n",
    "        # Act with H on phi_m and store in H_phi_m\n",
    "        H_phi_m = np.zeros(num_x_points)\n",
    "        add_pot_on_basis(H_phi_m,Vbump,basis_array[m])\n",
    "        # Create matrix element by integrating\n",
    "        H_mn = integrate_functions(basis_array[n],H_phi_m,num_x_points,dx)\n",
    "        # The comma at the end prints without a new line; the %8.3f formats the number\n",
    "        print \"%8.3f\" % H_mn,\n",
    "    # This print puts in a new line when we have finished looping over m\n",
    "    print\n",
    "\n",
    "print\n",
    "print \"Full Hamiltonian\"\n",
    "# Loop over basis functions phi_n (the bra in the matrix element)\n",
    "# Calculate and store the matrix elements for the full Hamiltonian\n",
    "for n in range(num_basis):\n",
    "    # Loop over basis functions phi_m (the ket in the matrix element)\n",
    "    for m in range(num_basis):\n",
    "        # Act with H on phi_m and store in H_phi_m\n",
    "        # First the kinetic energy\n",
    "        H_phi_m = -0.5*d2basis_array[m] \n",
    "        # Now the potential\n",
    "        add_pot_on_basis(H_phi_m,Vbump,basis_array[m])\n",
    "        # Create matrix element by integrating\n",
    "        H_mn = integrate_functions(basis_array[n],H_phi_m,num_x_points,dx)\n",
    "        Hmat[m,n] = H_mn\n",
    "        # The comma at the end prints without a new line; the %8.3f formats the number\n",
    "        print \"%8.3f\" % H_mn,\n",
    "    # This print puts in a new line when we have finished looping over m\n",
    "    print"
   ]
  },
  {
   "cell_type": "markdown",
   "metadata": {},
   "source": [
    "Notice that two things have changed compared to the perfect square well: first, the diagonal elements are _slightly_ larger; second, there are now off-diagonal elements.  Does it surprise you that these alternate (i.e. only in odd row and columns) ? Think about the symmetries of the system, particularly of the wavefunctions.\n",
    "\n",
    "What effect will this have on the eigenvalues and eigenvectors ? We'll diagonalise, print out the eigenvalues and plot the first few eigenvectors (as well as looking at their coefficients to get a rough idea of how much they've changed)."
   ]
  },
  {
   "cell_type": "code",
   "execution_count": 8,
   "metadata": {
    "collapsed": false
   },
   "outputs": [
    {
     "name": "stdout",
     "output_type": "stream",
     "text": [
      "[   4.9647   19.7393   44.443    78.9571  123.3996  177.6536  241.8344\n",
      "  315.8286  399.7474  493.4821]\n",
      "[  1.0000e+00  -2.0635e-17   7.5696e-04  -7.1521e-17  -2.5115e-04\n",
      "   7.7171e-17  -1.2461e-04   3.6019e-17  -7.3983e-05   5.9905e-17]\n",
      "[  2.2443e-17   1.0000e+00  -2.2204e-15  -2.6578e-06   2.2204e-16\n",
      "   1.4901e-06   5.5511e-17   1.0548e-06   3.8858e-16  -8.1916e-07]\n",
      "[  7.5708e-04  -2.2204e-15  -1.0000e+00  -3.4056e-16   3.7569e-04\n",
      "   1.3964e-16   1.4913e-04   1.0053e-16   8.1990e-05  -2.4266e-16]\n"
     ]
    }
   ],
   "source": [
    "# Solve using linalg module of numpy (which we've imported as la above)\n",
    "eigval, eigvec = la.eigh(Hmat)\n",
    "# This call above does the entire solution for the eigenvalues and eigenvectors !\n",
    "# Print results roughly, though apply precision of 4 to the printing\n",
    "np.set_printoptions(precision=4)\n",
    "print eigval\n",
    "print eigvec[0]\n",
    "print eigvec[1]\n",
    "print eigvec[2]"
   ]
  },
  {
   "cell_type": "markdown",
   "metadata": {},
   "source": [
    "We can see that the eigenvalues look close to the perfect well values (we'll check them properly below).  The eigenvector coefficients show a single dominant value (corresponding to the unperturbed eigenvector), with very small contributions from other eigenvectors.  Now print the eigenvalues and calculate the change."
   ]
  },
  {
   "cell_type": "code",
   "execution_count": 9,
   "metadata": {
    "collapsed": false
   },
   "outputs": [
    {
     "name": "stdout",
     "output_type": "stream",
     "text": [
      " Changed Original  Difference\n",
      "   4.965    4.935    0.030\n",
      "  19.739   19.739    0.000\n",
      "  44.443   44.413    0.030\n",
      "  78.957   78.957    0.000\n",
      " 123.400  123.370    0.030\n",
      " 177.654  177.653    0.001\n",
      " 241.834  241.805    0.029\n",
      " 315.829  315.827    0.001\n",
      " 399.747  399.719    0.028\n",
      " 493.482  493.480    0.002\n"
     ]
    }
   ],
   "source": [
    "# Now print out eigenvalues and the eigenvalues of the perfect square well, and the difference\n",
    "print \" Changed Original  Difference\"\n",
    "for i in range(num_basis):\n",
    "    n = i+1\n",
    "    print \"%8.3f %8.3f %8.3f\" % (eigval[i],n*n*np.pi*np.pi/2.0,eigval[i] - n*n*np.pi*np.pi/2.0)"
   ]
  },
  {
   "cell_type": "markdown",
   "metadata": {},
   "source": [
    "Compare the differences in eigenvalues due to the small potential we've added to the diagonal terms of the potential matrix.  How close is the agreement ? You might like to change the magnitude of the potential (higher up - it's passed as an argument to the potential function) and see how this agreement changes.\n",
    "\n",
    "Now we'll plot the eigenvectors (after building them) and look at the change with respect to the eigenvectors of the original system.  Remember that any function in this space can be written as:\n",
    "\n",
    "$$\\vert\\psi\\rangle = \\sum_i c_i \\vert \\phi_i \\rangle$$\n",
    "\n",
    "We'll use this to build the eigenfunctions of the perturbed system.  In this case, $c_i$ are the coefficients in the eigenvector of the matrix, and $\\vert\\phi_i\\rangle$ are the basis functions."
   ]
  },
  {
   "cell_type": "code",
   "execution_count": 10,
   "metadata": {
    "collapsed": false
   },
   "outputs": [
    {
     "data": {
      "image/png": "[encoded data removed]",
      "text/plain": [
       "<matplotlib.figure.Figure at 0x10a930a50>"
      ]
     },
     "metadata": {},
     "output_type": "display_data"
    }
   ],
   "source": [
    "# Define a figure to take two plots\n",
    "fig = pl.figure(figsize=[12,3])\n",
    "# Add subplots: number in y, x, index number\n",
    "ax = fig.add_subplot(121,autoscale_on=False,xlim=(0,1),ylim=(-2,2))\n",
    "ax.set_title(\"Eigenvectors for changed system\")\n",
    "ax2 = fig.add_subplot(122,autoscale_on=False,xlim=(0,1),ylim=(-0.002,0.002))\n",
    "ax2.set_title(\"Difference to perfect eigenvectors\")\n",
    "for m in range(4): # Plot the first four states\n",
    "    psi = np.zeros(num_x_points)\n",
    "    for i in range(num_basis):\n",
    "        psi = psi+eigvec[i,m]*basis_array[i]\n",
    "    if eigvec[m,m] < 0:  # This is just to ensure that psi and the basis function have the same phase\n",
    "        psi = -psi\n",
    "    ax.plot(x,psi)\n",
    "    # Now subtract the unperturbed eigenvector to see the change from the perturbation\n",
    "    psi = psi - basis_array[m]\n",
    "    ax2.plot(x,psi)\n"
   ]
  },
  {
   "cell_type": "markdown",
   "metadata": {},
   "source": [
    "Notice how the eigenvectors for this changed system are *very* close to the original system.  This is a perfect example of a good system to study with perturbation theory.  The changes in the eigenvectors can be related to matrix elements of the potential and the eigenvalues of the unperturbed system, but we won't do this just yet.\n",
    "\n",
    "In the next notebook, we will explore a more complex perturbation (a truncated quantum harmonic oscillator, or QHO) and the effects of varying the magnitude of the perturbation.  As well as improving your understanding of matrix mechanics, this should give a useful insight into the limitations of perturbation theory and finite basis sets."
   ]
  },
  {
   "cell_type": "code",
   "execution_count": null,
   "metadata": {
    "collapsed": true
   },
   "outputs": [],
   "source": []
  }
 ],
 "metadata": {
  "kernelspec": {
   "display_name": "Python 2",
   "language": "python",
   "name": "python2"
  },
  "language_info": {
   "codemirror_mode": {
    "name": "ipython",
    "version": 2
   },
   "file_extension": ".py",
   "mimetype": "text/x-python",
   "name": "python",
   "nbconvert_exporter": "python",
   "pygments_lexer": "ipython2",
   "version": "2.7.10"
  }
 },
 "nbformat": 4,
 "nbformat_minor": 0
}
