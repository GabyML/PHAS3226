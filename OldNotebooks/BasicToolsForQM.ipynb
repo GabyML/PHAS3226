{
 "metadata": {
  "name": "",
  "signature": "sha256:9950a624977b4f80c1c07941b45cf42d3205a2a36e2ad40a8b08e85689f19919"
 },
 "nbformat": 3,
 "nbformat_minor": 0,
 "worksheets": [
  {
   "cells": [
    {
     "cell_type": "heading",
     "level": 2,
     "metadata": {},
     "source": [
      "Tools and Approaches in ipython for Quantum Mechanics"
     ]
    },
    {
     "cell_type": "markdown",
     "metadata": {},
     "source": [
      "With a few simple routines and tools in ipython, you will be able to solve many complex problems in quantum mechanics that are too complex to solve with pen and paper.  This notebook will introduce these ideas.\n",
      "\n",
      "The main techniques that we will use are based around vectors and matrices (and note that a vector can be thought of as a single column matrix).  We will start by creating matrices, and writing a short subroutine to print the contents of a matrix or vector."
     ]
    },
    {
     "cell_type": "markdown",
     "metadata": {},
     "source": [
      "We create matrices with the Numerical Python (numpy) `matrix` method; this is a specialised two dimensional array with various operators such as matrix multiplication.  The input to this is an ordinary python array.\n",
      "\n",
      "[Note: I will import numpy, scipy and matplotlib explicitly as needed - see the `import numpy as np` command below if you've not seen this before.  I will also ask `matplotlib` to make plots inline - i.e. in the notebook.]\n",
      "\n",
      "For instance, we can define a 2x2 matrix:"
     ]
    },
    {
     "cell_type": "code",
     "collapsed": false,
     "input": [
      "%matplotlib inline\n",
      "import numpy as np\n",
      "A = np.matrix('1 2; 3 4')\n",
      "print A"
     ],
     "language": "python",
     "metadata": {},
     "outputs": [
      {
       "output_type": "stream",
       "stream": "stdout",
       "text": [
        "[[1 2]\n",
        " [3 4]]\n"
       ]
      }
     ],
     "prompt_number": 2
    },
    {
     "cell_type": "markdown",
     "metadata": {},
     "source": [
      "But this is rather an ugly way to show a matrix. Below I define a simple way to print out a matrix."
     ]
    },
    {
     "cell_type": "code",
     "collapsed": false,
     "input": [
      "def printmat(A,rowsize,colsize,label):\n",
      "    \"\"\"Print a formatted matrix; requires matrix, rows, columns, label\"\"\"\n",
      "    #Note that in python, arrays start from zero\n",
      "    for i in range(rowsize):\n",
      "        if i==0:\n",
      "            print label,\" =\",\n",
      "        else:\n",
      "            print \"    \",\n",
      "        for j in range(colsize):\n",
      "            print \"%8.5f\" % (A[i,j]),\n",
      "        print\n",
      "        \n",
      "printmat(A,2,2,\"A\")"
     ],
     "language": "python",
     "metadata": {},
     "outputs": [
      {
       "output_type": "stream",
       "stream": "stdout",
       "text": [
        "A  =  1.00000  2.00000\n",
        "      3.00000  4.00000\n"
       ]
      }
     ],
     "prompt_number": 3
    },
    {
     "cell_type": "markdown",
     "metadata": {},
     "source": [
      "Often we will want to create a blank matrix filled with zeroes, and then populate these with non-zero elements.  For this we can use the `zeros` function; we will create a 2x3 matrix filled with zeros:"
     ]
    },
    {
     "cell_type": "code",
     "collapsed": false,
     "input": [
      "B = np.matrix(np.zeros((2,3),order='F'))\n",
      "print B\n",
      "printmat(B,2,3,\"B\")"
     ],
     "language": "python",
     "metadata": {},
     "outputs": [
      {
       "output_type": "stream",
       "stream": "stdout",
       "text": [
        "[[ 0.  0.  0.]\n",
        " [ 0.  0.  0.]]\n",
        "B  =  0.00000  0.00000  0.00000\n",
        "      0.00000  0.00000  0.00000\n"
       ]
      }
     ],
     "prompt_number": 4
    },
    {
     "cell_type": "markdown",
     "metadata": {},
     "source": [
      "Notice that we have specified an argument to `zeros` which specifies Fortran-style matrix addressing (where the first argument is rows and the second is columns).  This is purely my preference, but if you choose the alternative you will have to change the `printmat` routine."
     ]
    },
    {
     "cell_type": "markdown",
     "metadata": {},
     "source": [
      "We will often need to create matrices based on the row or column of the entry; it is vital to note that python indexes arrays and matrices starting from *zero* and in quantum mechanics we may well have different indices - you will need to be careful."
     ]
    },
    {
     "cell_type": "heading",
     "level": 3,
     "metadata": {},
     "source": [
      "Solving for eigenvalues and eigenvectors"
     ]
    },
    {
     "cell_type": "markdown",
     "metadata": {},
     "source": [
      "Numpy provides a linear algebra module, `linalg`, which has a method `eig` that returns the eigenvalues and eigenvectors of a square matrix.  So if we have a Hamiltonian that we have defined, we can solve using this method.  \n",
      "\n",
      "As an example, I will define a simple 2x2 matrix that represents H$_{2}^{+}$ (discussed in another notebook) and solve for the eigenvalues.  For this matrix, we will need an atomic energy, E (we will choose -0.5) and an energy representing the interaction between atoms, hop (we will choose 0.1).  "
     ]
    },
    {
     "cell_type": "code",
     "collapsed": false,
     "input": [
      "E = -0.5\n",
      "hop = 0.1\n",
      "H = np.matrix(np.zeros((2,2),order='F'))\n",
      "H[0,0] = E\n",
      "H[1,1] = E\n",
      "H[0,1] = hop\n",
      "H[1,0] = hop\n",
      "printmat(H,2,2,'H')"
     ],
     "language": "python",
     "metadata": {},
     "outputs": [
      {
       "output_type": "stream",
       "stream": "stdout",
       "text": [
        "H  = -0.50000  0.10000\n",
        "      0.10000 -0.50000\n"
       ]
      }
     ],
     "prompt_number": 8
    },
    {
     "cell_type": "markdown",
     "metadata": {},
     "source": [
      "The physics is explained in another notebook, but it's important to understand that the on-site matrix elements (`E`) represent, roughly, the energy of the isolated atom, while the inter-site matrix elements (`hop`) represent the interaction between the atoms.  You should explore the effects of making `hop` very small (separating the atoms by a long way) and very large (bringing them close together) compared to `E`.  We solve, and output the results, with a rather simple function call.  The output is a vector storing the eigenvalues (we call it `v` below) and a matrix storing the coefficients of the eigenvectors (`w`).  We return these in a tuple `(v,w)`, and print them out (note that we can't use `printmat` to print `v` as it's a one dimensional array)."
     ]
    },
    {
     "cell_type": "code",
     "collapsed": false,
     "input": [
      "(v,w) = np.linalg.eig(H)\n",
      "print v\n",
      "printmat(w,2,2,\"w\")"
     ],
     "language": "python",
     "metadata": {},
     "outputs": [
      {
       "output_type": "stream",
       "stream": "stdout",
       "text": [
        "[-0.4 -0.6]\n",
        "w  =  0.70711 -0.70711\n",
        "      0.70711  0.70711\n"
       ]
      }
     ],
     "prompt_number": 9
    },
    {
     "cell_type": "markdown",
     "metadata": {},
     "source": [
      "How can we make sense of these results ? The energies make some sense: we have two energy levels, one below the isolated atoms (i.e. more stable) and one above (less stable).  The stability we see leads to chemical bonding, giving the well-known H$_2$ molecule.  Experiment with the value of `hop` and see how the splitting between the energies varies.  Do the eigenstates change (and should they) ? \n",
      "\n",
      "The eigenstates are normalised by $1/\\sqrt{2}$ and are symmetric and anti-symmetric combinations of the basis functions.  We can plot these by assuming a basis (we will use an atomic wavefunction $e^{-\\alpha r}$) as shown below.  Note that we're using `pyplot` via `matplotlib`.\n",
      "\n",
      "Strictly speaking, the value of `hop` should be determined by the spacing between the atoms, so we should make that spacing depend on the value of `hop` (or vice versa).  But that's for another notebook - this is just designed to show you basic approaches to using ipython for QM."
     ]
    },
    {
     "cell_type": "code",
     "collapsed": false,
     "input": [
      "# Import a new module\n",
      "import matplotlib.pyplot as pl\n",
      "# Define a space between -3 and 3 bohr radii\n",
      "x=np.linspace(-3,3,1000)\n",
      "# Set the exponent, alpha\n",
      "alpha = 1.0\n",
      "# One atom will be at -0.5 and the other at +0.5; create their wavefunctions\n",
      "psi1 = np.exp(-alpha*np.fabs((x+0.5)))\n",
      "psi2 = np.exp(-alpha*np.fabs((x-0.5)))\n",
      "# Now plot the two states\n",
      "pl.plot(x,w[0,0]*psi1 + w[0,1]*psi2)\n",
      "pl.plot(x,w[1,0]*psi1 + w[1,1]*psi2)"
     ],
     "language": "python",
     "metadata": {},
     "outputs": [
      {
       "metadata": {},
       "output_type": "pyout",
       "prompt_number": 10,
       "text": [
        "[<matplotlib.lines.Line2D at 0x1083e2b10>]"
       ]
      },
      {
       "metadata": {},
       "output_type": "display_data",
       "png": "[encoded data removed]",
       "text": [
        "<matplotlib.figure.Figure at 0x1083e2b50>"
       ]
      }
     ],
     "prompt_number": 10
    },
    {
     "cell_type": "markdown",
     "metadata": {},
     "source": [
      "Notice that the green line corresponds to the more stable eigenvector and the blue line to the less stable eigenvector.  The green line shows an accumulation of the electron between the two atoms, which is the bond between the atoms."
     ]
    },
    {
     "cell_type": "code",
     "collapsed": false,
     "input": [],
     "language": "python",
     "metadata": {},
     "outputs": [],
     "prompt_number": 7
    }
   ],
   "metadata": {}
  }
 ]
}