{
 "metadata": {
  "name": "",
  "signature": "sha256:2d06edfea45a13d1074f5db315da271540e3767eb584922908f0fee37e0588f8"
 },
 "nbformat": 3,
 "nbformat_minor": 0,
 "worksheets": [
  {
   "cells": [
    {
     "cell_type": "heading",
     "level": 1,
     "metadata": {},
     "source": [
      "Simple Example of Electronic Structure"
     ]
    },
    {
     "cell_type": "markdown",
     "metadata": {},
     "source": [
      "Let us assume that we are interested in understanding the bonding in a diatomic molecule (which might be H$_2$ for instance).  For simplicity, we will start with one electron; we can write down the Hamiltonian for this system:\n",
      "\n",
      "\\begin{equation}\n",
      "\\hat{H} = -\\frac{1}{2}\\nabla^2 + \\sum_I \\frac{Z_I}{\\mid \\mathbf{r}-\\mathbf{R}_I\\mid}\n",
      "\\end{equation}"
     ]
    },
    {
     "cell_type": "markdown",
     "metadata": {},
     "source": [
      "Now we need to solve for the eigenstates of the system.  The standard approach is to use a basis set of some kind, and this can get awfully complicated very quickly.  Since we have a system which is basically a perturbation on the individual atoms, we might choose the atomic wavefunctions as a starting point.  We will label these basis functions by the atom number (using Roman characters, $i$) and some composite index on the atom (using Greek characters, $\\alpha$):"
     ]
    },
    {
     "cell_type": "markdown",
     "metadata": {},
     "source": [
      "\\begin{equation}\n",
      "\\psi_n(\\mathbf{r}) = \\sum_{i\\alpha} c_{i\\alpha}\\phi_{i\\alpha}(\\mathbf{r})\n",
      "\\end{equation}\n",
      "\n",
      "Then we can reduce the problem of finding the eigenvectors and eigenvalues to the problem of finding the coefficients, $c_{i\\alpha}$."
     ]
    },
    {
     "cell_type": "heading",
     "level": 3,
     "metadata": {},
     "source": [
      "Matrix Representation"
     ]
    },
    {
     "cell_type": "markdown",
     "metadata": {},
     "source": [
      "The Schrodinger equation becomes:\n",
      "\\begin{eqnarray}\n",
      "\\hat{H}\\psi_n(\\mathbf{r}) &=& \\epsilon_n \\psi_n(\\mathbf{r})\\\\\n",
      "\\hat{H}\\sum_{i\\alpha} c_{i\\alpha} \\phi_{i\\alpha}(\\mathbf{r}) &=& \\epsilon_n \\sum_{i\\alpha} c_{i\\alpha} \\phi_{i\\alpha}(\\mathbf{r})\n",
      "\\end{eqnarray}\n",
      "If we were being careful, we would probably include an index $n$ on the coefficients, as $c^n_{i\\alpha}$, to make it clear that the coefficients will change with eigenstate; I will assume that this is implied."
     ]
    },
    {
     "cell_type": "markdown",
     "metadata": {},
     "source": [
      "We are now going to make a transformation to matrix representation.  This will enable us to use highly optimised computational routines to solve for the eigenvectors, extending the range of calculations that we can perform.  We perform the transformation by integrating with another basis function, $\\phi^\\star_{j\\beta}(\\mathbf{r})$.  I find Dirac notation easiest at this point:\n",
      "\\begin{eqnarray}\n",
      "\\hat{H}\\sum_{i\\alpha}c_{i\\alpha}\\mid\\phi_{i\\alpha}\\rangle &=& \\epsilon_n \\sum_{i\\alpha}\\mid\\phi_{i\\alpha}\\rangle\\\\\n",
      "\\langle \\phi_{j\\beta}\\mid \\hat{H}\\sum_{i\\alpha}c_{i\\alpha}\\mid\\phi_{i\\alpha}\\rangle &=& \\epsilon_n \\langle \\phi_{j\\beta}\\sum_{i\\alpha}c_{i\\alpha}\\mid\\phi_{i\\alpha}\\rangle\\\\\n",
      "\\sum_{i\\alpha} c_{i\\alpha} \\langle \\phi_{j\\beta}\\mid \\hat{H}\\mid\\phi_{i\\alpha}\\rangle &=& \\epsilon_n \\sum_{i\\alpha} c_{i\\alpha} \\langle \\phi_{j\\beta}\\mid \\phi_{i\\alpha}\\rangle\n",
      "\\end{eqnarray}"
     ]
    },
    {
     "cell_type": "markdown",
     "metadata": {},
     "source": [
      "Note that the terms in angled brackets can be written as real-space integrals (and this is normally how they are evaluated):\n",
      "\\begin{eqnarray}\n",
      "\\langle \\phi_{j\\beta}\\mid \\hat{H} \\mid \\phi_{i\\alpha}\\rangle &=& \\int \\mathrm{d}\\mathbf{r} \\phi^\\star_{j\\beta}(\\mathbf{r}) \\left(\\hat{H}\\right) \\phi_{i\\alpha}(\\mathbf{r})\\\\\n",
      "\\langle \\phi_{j\\beta}\\mid\\phi_{i\\alpha}\\rangle &=& \\int \\mathrm{d}\\mathbf{r} \\phi^\\star_{j\\beta}(\\mathbf{r}) \\phi_{i\\alpha}(\\mathbf{r})\n",
      "\\end{eqnarray}"
     ]
    },
    {
     "cell_type": "markdown",
     "metadata": {},
     "source": [
      "We can now define matrix elements, and convert the Schrodinger equation into a matrix eigenvalue equation:\n",
      "\\begin{eqnarray}\n",
      "H_{j\\beta i\\alpha} &=& \\langle \\phi_{j\\beta} \\mid \\hat{H}\\mid \\phi_{i\\alpha}\\rangle\\\\\n",
      "S_{j\\beta i\\alpha} &=& \\langle \\phi_{j\\beta} \\mid \\phi_{i\\alpha}\\rangle\\\\\n",
      "\\sum_{i\\alpha} H_{j\\beta i\\alpha} c_{i\\alpha} &=& \\epsilon_n \\sum_{i\\alpha} S_{j\\beta i\\alpha} c_{i\\alpha}\\\\\n",
      "\\sum_{i\\alpha} H_{j\\beta i\\alpha} c_{i\\alpha} &=& \\epsilon_n c_{j\\beta} \\mbox{ if } S_{j\\beta i\\alpha} = \\delta_{ij}\\delta_{\\alpha\\beta}\n",
      "\\end{eqnarray}"
     ]
    },
    {
     "cell_type": "markdown",
     "metadata": {},
     "source": [
      "The third line of the preceding equation is a _generalised_ eigenvalue equation; it is quite easy to convert it to the normal eigenvalue equation (fourth line) by an orthogonality transform.  The task now is to choose appropriate basis functions, evaluate the matrix elements, and solve the equations."
     ]
    },
    {
     "cell_type": "heading",
     "level": 3,
     "metadata": {},
     "source": [
      "The easiest basis set"
     ]
    },
    {
     "cell_type": "markdown",
     "metadata": {},
     "source": [
      "In formal quantum mechanics, we normally assume that we have a complete basis set (which is also orthonormal).  This is rarely possible, and in practical calculations we choose a basis set that is a compromise between accuracy (a large basis) and efficiency (a small basis).  For this example, we will use the simplest possible basis: a 1s orbital (the ground state orbital for a hydrogen atom) from each atom.  Moreover, we will assume that we have orthogonalised the basis, so that the matrix $S$ is the identity matrix."
     ]
    },
    {
     "cell_type": "markdown",
     "metadata": {},
     "source": [
      "We are now faced with the task of calculating the matrix elements.  This can be done numerically (and sometimes analytically) using expressions of the form:\n",
      "\\begin{equation}\n",
      "H_{11} = \\int \\mathrm{d}\\mathbf{r} \\left(A e^{-\\alpha r}\\right)^\\star \\left[ -\\frac{1}{2}\\nabla^2 + \\frac{-1}{\\mid \\mathbf{r}  - \\mathbf{R}_1\\mid} + \\frac{-1}{\\mid \\mathbf{r}  - \\mathbf{R}_2\\mid}\\right] A e^{-\\alpha r}\n",
      "\\end{equation}\n",
      "Note that $\\mathbf{R}_1$ is the position of atom 1, and we have dropped the label $\\alpha$ because we are using only a single basis function per atom.\n",
      "\n",
      "These can be evaluated numerically relatively trivially, both for the simple basis set here and for other, more complex basis sets.  However, it is often physically more transparent to consider how these will vary as the atoms go from completely separated to close together.  (We can use this approach to parameterise the Hamiltonian, to speed up the matrix element evaluations.)"
     ]
    },
    {
     "cell_type": "markdown",
     "metadata": {},
     "source": [
      "If the atoms were infinitely separated, then in the matrix element above the term involving $\\mathbf{R}_2$ would go to zero.  We might choose to label this value as $\\varepsilon_1$, and the equivalent for $H_{22}$ as $\\varepsilon_2$.  To a good approximation, these values will stay the same as the atoms come close together."
     ]
    },
    {
     "cell_type": "markdown",
     "metadata": {},
     "source": [
      "The terms $H_{12}$ and $H_{21}$ will, by symmetry, be the same, and will vary with distance between the atoms.  We might label them as: $H_{12} = H_{21} = t(\\mid \\mathbf{R}_1 - \\mathbf{R}_2\\mid)=t(R_{12})$.  Then we can write the full Hamiltonian matrix as:\n",
      "\\begin{equation}\n",
      "\\mathbf{H} = \\begin{pmatrix}\\varepsilon_1 & t(R_{12})\\\\t(R_{12})&\\varepsilon_2\\end{pmatrix}\n",
      "\\end{equation}\n",
      "and the Schrodinger equation becomes:\n",
      "\\begin{equation}\n",
      "\\begin{pmatrix}\\varepsilon_1 & t(R_{12})\\\\t(R_{12})&\\varepsilon_2\\end{pmatrix} \\begin{pmatrix}c_1\\\\c_2\\end{pmatrix} = \\epsilon_n \\begin{pmatrix}c_1\\\\c_2\\end{pmatrix} \n",
      "\\end{equation}\n",
      "(N.B. the symbols $\\epsilon$ and $\\varepsilon$ are *different* !)"
     ]
    },
    {
     "cell_type": "heading",
     "level": 3,
     "metadata": {},
     "source": [
      "Solving the equation"
     ]
    },
    {
     "cell_type": "markdown",
     "metadata": {},
     "source": [
      "This is an almost trivial equation to solve, particularly if we set $\\varepsilon_1 = \\varepsilon_2 = \\varepsilon$.  Then we find:\n",
      "\\begin{eqnarray}\n",
      "\\epsilon_1 &=& \\varepsilon - t(R_{12})\\\\\n",
      "\\psi_1 &=& \\frac{1}{\\sqrt{2}}\\begin{pmatrix}1\\\\1\\end{pmatrix}\\\\\n",
      "\\epsilon_2 &=& \\varepsilon + t(R_{12})\\\\\n",
      "\\psi_2 &=& \\frac{1}{\\sqrt{2}}\\begin{pmatrix}1\\\\-1\\end{pmatrix}\n",
      "\\end{eqnarray}"
     ]
    },
    {
     "cell_type": "markdown",
     "metadata": {},
     "source": [
      "As the two atoms come closer together, the energy levels of the individual atoms split, giving a low energy, symmetric combination of the atomic eigenstates (in chemical terms the resulting eigenstate is known as a bonding orbital) and a high energy, anti-symmetric combination of the atomic eigenstates (known as an anti-bonding orbital).  This is a reasonable description of the $H^+_2$ ion.  Plotting the bonding and anti-bonding orbitals is fairly simple in python/ipython, and is instructive (I might make this an exercise)."
     ]
    },
    {
     "cell_type": "heading",
     "level": 3,
     "metadata": {},
     "source": [
      "Adding more electrons"
     ]
    },
    {
     "cell_type": "markdown",
     "metadata": {},
     "source": [
      "For a realistic problem, we need to have more than one electron.  This will add a new term to the Hamiltonian, that of electron-electron interaction, and render the problem analytically insoluble.  There are a number of approaches to this problem; the most commonly used in research in this area is called density functional theory (DFT), which reformulates the many-body problem exactly into single electrons which interact via a functional (a function of a function) of the charge density. "
     ]
    },
    {
     "cell_type": "markdown",
     "metadata": {},
     "source": [
      "In practical terms, this will alter the *values* of the matrix elements, but not the formalism developed above.  So we can continue to use the eigenstates of the system, but acknowledging that the energies will change.  (There is considerably more subtlety to the problem than I have discussed here: the problem becomes iterative, as we have to generate a Hamiltonian from a charge density, which comes from the solution of the Hamiltonian..., and the details of the functional are highly non-trivial; however, the essential results do not change.)\n",
      "\n",
      "This means that we can, for instance, calculate the binding of $H_2$.  We are going to ignore spin degrees of freedom, so that each eigenstate will hold two electrons (one of each spin).  The total energy can be found as the sum over the energy of the eigenstates, so: $E = 2\\epsilon_1 = 2\\varepsilon - 2t(R_{12})$, as we have two electrons in the lowest eigenstate.\n",
      "\n",
      "Now consider what would happen if we were to model two atoms of helium using this approach.  We would have different absolute values for $\\varepsilon$ and $t$, but the same matrix and the same result.  Now we would also have four electrons, so that the total energy would be:\n",
      "\\begin{equation}\n",
      "E_{\\mathrm{He}} = 2\\epsilon_1 + 2\\epsilon_2 = 2\\left(\\varepsilon_{\\mathrm{He}} - t_{\\mathrm{He}}(R_{12})\\right) + 2\\left(\\varepsilon_{\\mathrm{He}} + t_{\\mathrm{He}}(R_{12})\\right) = 4\\varepsilon_{\\mathrm{He}} \n",
      "\\end{equation}\n",
      "as we have two electrons in each eigenstate."
     ]
    },
    {
     "cell_type": "markdown",
     "metadata": {},
     "source": [
      "This is the same as the energy of two, isolated helium atoms: exactly what is seen in nature (there is no He$_2$ molecule).  Now we have neglected a number of important, subtle effects, but we have seen how we can make a simple, physically transparent model of bonding.\n",
      "\n",
      "We might improve on this model by calculating the integrals explicitly, or by introducing more basis functions.  Notice that what is actually needed to make the calculations work are values of the matrix elements.  Some approaches to modelling simply fit these elements to experimental data, or data from other calculations, enabling rapid, approximate techniques such as tight binding (also known as LCAO, or linear combination of atomic orbitals)."
     ]
    },
    {
     "cell_type": "markdown",
     "metadata": {},
     "source": [
      "There are routines in python (for instance the linear algebra suite in Numerical Python, numpy.linalg) which will solve eigenvector equations, so we will introduce ways to generate matrices and use the linear algebra routines to model real problems in the future."
     ]
    },
    {
     "cell_type": "code",
     "collapsed": false,
     "input": [],
     "language": "python",
     "metadata": {},
     "outputs": []
    }
   ],
   "metadata": {}
  }
 ]
}