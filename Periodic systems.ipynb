{
 "metadata": {
  "name": "",
  "signature": "sha256:4214d06ecc2c38d1bb8ae3181cb9dcc56d4607c7e62d3c2d9f3ed1d3562ce58a"
 },
 "nbformat": 3,
 "nbformat_minor": 0,
 "worksheets": [
  {
   "cells": [
    {
     "cell_type": "heading",
     "level": 2,
     "metadata": {},
     "source": [
      "Simple, periodic problem"
     ]
    },
    {
     "cell_type": "markdown",
     "metadata": {},
     "source": [
      "Let us consider a one-dimensional chain of N atoms, with even spacing a, arranged with periodic boundary conditions.  (This means that we could have atoms 1 to N, with atom 1 being the neighbour of atom N.)  We want to understand how the energy of the system varies with wavevector (or reciprocal space lattice vector)."
     ]
    },
    {
     "cell_type": "heading",
     "level": 3,
     "metadata": {},
     "source": [
      "Bloch's Theorem"
     ]
    },
    {
     "cell_type": "markdown",
     "metadata": {},
     "source": [
      "Let's start by re-stating Bloch's theorem, which applies to a system with periodicity (specifically a periodic potential, such that $U(\\mathbf{r}+\\mathbf{R}) = U(\\mathbf{r})$.  Then we have, for the eigenstates of the one-electron Hamiltonian:\n",
      "\n",
      "\\begin{eqnarray}\n",
      "\\hat{H} &=& -\\frac{1}{2}\\nabla^2 + U(\\mathbf{r})\\\\\n",
      "\\hat{H} \\psi_{n\\mathbf{k}}(\\mathbf{r}) &=& \\epsilon_{n\\mathbf{k}} \\psi_{n\\mathbf{k}}(\\mathbf{r})\\\\\n",
      "\\psi_{n\\mathbf{k}}(\\mathbf{r}) &=& e^{i\\mathbf{k}\\cdot\\mathbf{r}}u_{n\\mathbf{k}}(\\mathbf{r})\\\\\n",
      "u_{n\\mathbf{k}}(\\mathbf{r}+\\mathbf{R}) &=& u_{n\\mathbf{k}}(\\mathbf{r})\n",
      "\\end{eqnarray}"
     ]
    },
    {
     "cell_type": "markdown",
     "metadata": {},
     "source": [
      "We can also write this as:\n",
      "\n",
      "\\begin{equation}\n",
      "\\psi_{n\\mathbf{k}}(\\mathbf{r}+\\mathbf{R}) = e^{i\\mathbf{k}\\cdot \\mathbf{R}} \\psi_{n\\mathbf{k}}(\\mathbf{r})\n",
      "\\end{equation}\n",
      "\n",
      "Note here that $\\mathbf{k}$ is a wavevector (which should be familiar from general wave theory) which is associated with the periodic potential."
     ]
    },
    {
     "cell_type": "heading",
     "level": 3,
     "metadata": {},
     "source": [
      "Born-von Karman boundary conditions"
     ]
    },
    {
     "cell_type": "markdown",
     "metadata": {},
     "source": [
      "These boundary conditions introduce periodicity, such that $\\psi(\\mathbf{r}+N\\mathbf{a}) = \\psi(\\mathbf{r})$ in a system with periodicity given by the vector $\\mathbf{a}$ with $N$ an integer.  This gives a condition on the values that $\\mathbf{k}$ can take on.\n",
      "\n",
      "\\begin{eqnarray}\n",
      "\\psi_{n\\mathbf{k}}(\\mathbf{r}+N\\mathbf{a}) &=& e^{iN\\mathbf{k}\\cdot\\mathbf{a}}\\psi_{n\\mathbf{k}}(\\mathbf{r}), N=1,2,3,\\ldots\\\\\n",
      "\\Rightarrow e^{iN\\mathbf{k}\\cdot\\mathbf{a}} &=& 1\\\\\n",
      "\\Rightarrow \\mid \\mathbf{k}\\mid &=& \\frac{2\\pi}{N \\mid \\mathbf{a}\\mid}\n",
      "\\end{eqnarray}"
     ]
    },
    {
     "cell_type": "markdown",
     "metadata": {},
     "source": [
      "We now need to consider the values that the wavevector can take.  The periodicity is introduced by the integer $N$, which can take on values from $1$ to the number of sites in the sample.  If the sample is macroscopically large, then we see that, effectively, the wavevector takes on values from zero up to a maximum of $2\\pi/a$ with $a$ the size of the periodic repeat.  Conventionally, we take the values from $-\\pi/a$ to $\\pi/a$."
     ]
    },
    {
     "cell_type": "heading",
     "level": 3,
     "metadata": {},
     "source": [
      "Tight-binding model"
     ]
    },
    {
     "cell_type": "markdown",
     "metadata": {},
     "source": [
      "We will now use this approach to solve for a simple, s-orbital tight-binding model.  We assume that there is one atom per unit cell, and one s-orbital per atom, indicated as $\\mid n \\rangle$, with $n$ the index of the periodic cell.  Then we assume a standard one-electron Hamiltonian (i.e. with a periodic potential of some kind as well as the kinetic energy), and seek to solve for the eigenstate of the system.  This eigenstate will depend on the wavevector k, so we write it as $\\mid k\\rangle$; as is standard, we have $-\\pi/a \\lt k \\le \\pi/a$. It will be formed from a sum over the basis functions, with an appropriate phase.\n",
      "\n",
      "\\begin{eqnarray}\n",
      "\\mid k \\rangle &=& \\frac{1}{\\sqrt{N}}\\sum_{n=1}^{N} e^{inka}\\mid n\\rangle\\\\\n",
      "\\hat{H} \\mid k \\rangle &=& \\frac{1}{\\sqrt{N}}\\sum_{n=1}^{N} e^{inka}\\hat{H}\\mid n\\rangle\n",
      "\\end{eqnarray}\n",
      "\n",
      "The factor $1/\\sqrt{N}$ is for normalisation.  \n",
      "\n",
      "Clearly, we will be able to work efficiently when we consider the matrix elements formed between two basis functions and the Hamiltonian, and in the usual tight-binding approach we treat these matrix elements as parameters.  We will assume, for now, that the basis functions are orthogonal and short-ranged, so that we need only consider nearest neighbours (i.e. $\\langle n\\mid n \\pm 1\\rangle$).  So we can write:\n",
      "\n",
      "\\begin{eqnarray}\n",
      "\\langle n \\mid \\hat{H} \\mid n \\rangle &=& E_0\\\\\n",
      "\\langle n \\mid \\hat{H} \\mid n \\pm 1 \\rangle &=& \\sigma\\\\\n",
      "\\langle n \\mid \\hat{H} \\mid m \\rangle &=& 0, \\mid n-m \\mid >1\\\\\n",
      "\\langle n\\mid m \\rangle &=& \\delta_{nm}\\\\\n",
      "\\langle k \\mid \\hat{H} \\mid k \\rangle &=& \\left( \\frac{1}{\\sqrt{N}}\\sum_{m=1}^{N} e^{-imka}\\langle m\\mid\\right) \\hat{H} \\left(\\frac{1}{\\sqrt{N}}\\sum_{n=1}^{N} e^{inka}\\mid n\\rangle\\right)\\\\\n",
      "\\langle k \\mid \\hat{H} \\mid k \\rangle &=& \\frac{1}{N}\\sum_{m,n} e^{i(n-m)ka} \\langle m\\mid\\hat{H}\\mid n\\rangle\\\\\n",
      "\\langle k \\mid \\hat{H} \\mid k \\rangle &=& \\frac{1}{N}\\left(\\sum_{n} \\langle n \\mid \\hat{H} \\mid n \\rangle + \\sum_n e^{ika}\\langle n \\mid \\hat{H} \\mid n+1 \\rangle + \\sum_n e^{-ika}\\langle n \\mid \\hat{H} \\mid n-1 \\rangle\\right)\\\\\n",
      "\\langle k \\mid \\hat{H} \\mid k \\rangle &=& \\frac{1}{N}\\left(\\sum_{n} E_0 + e^{ika} \\sigma + e^{-ika} \\sigma\\right)\\\\\n",
      "\\langle k \\mid \\hat{H} \\mid k \\rangle &=& E_0 + 2\\sigma \\cos(ka)\n",
      "\\end{eqnarray}"
     ]
    },
    {
     "cell_type": "markdown",
     "metadata": {},
     "source": [
      "Note that we have cancelled the factor of $1/N$ with the sums over sites.  We have that $\\langle k \\mid \\hat{H} \\mid k \\rangle = E(k)$, the wave-vector dependent energy (there is no normalisation required because we assume an orthonormal basis; this can be changed almost trivially).  From this simple expression, we can plot some simple band structures."
     ]
    },
    {
     "cell_type": "heading",
     "level": 3,
     "metadata": {},
     "source": [
      "Bandstructure plots"
     ]
    },
    {
     "cell_type": "code",
     "collapsed": false,
     "input": [
      "# Set up scientific, numeric python and plotting via matplotlib\n",
      "%pylab inline\n",
      "# Set the on-site energy\n",
      "E0 = -1.0\n",
      "# Size of lattice\n",
      "a = 1.0\n",
      "# We assume that a = 1 so k goes from \n",
      "k = linspace(-pi/a,pi/a,1001)\n",
      "# Hopping integral - first value is weak in comparison to on-site energy\n",
      "# Note that this should be negative\n",
      "sigma = -0.1\n",
      "E = E0+2.0*sigma*cos(k*a)\n",
      "plot(k,E,label=\"Weak hopping\")\n",
      "# Now strengthen the hopping integral, recalculate E and plot\n",
      "sigma = -1.0\n",
      "E = E0+2.0*sigma*cos(k*a)\n",
      "plot(k,E,label=\"Strong hopping\")\n",
      "# Show legend\n",
      "legend()"
     ],
     "language": "python",
     "metadata": {},
     "outputs": [
      {
       "output_type": "stream",
       "stream": "stdout",
       "text": [
        "Populating the interactive namespace from numpy and matplotlib\n"
       ]
      },
      {
       "metadata": {},
       "output_type": "pyout",
       "prompt_number": 15,
       "text": [
        "<matplotlib.legend.Legend at 0x119370990>"
       ]
      },
      {
       "metadata": {},
       "output_type": "display_data",
       "png": "[encoded data removed]",
       "text": [
        "<matplotlib.figure.Figure at 0x1192a2cd0>"
       ]
      }
     ],
     "prompt_number": 15
    },
    {
     "cell_type": "markdown",
     "metadata": {},
     "source": [
      "It is instructive to experiment with the different values of on-site energy and hopping integral, and consider the physical situations that these correspond to.  The formalism can also be extended to two or three dimensions."
     ]
    },
    {
     "cell_type": "heading",
     "level": 3,
     "metadata": {},
     "source": [
      "More complex problems"
     ]
    },
    {
     "cell_type": "markdown",
     "metadata": {},
     "source": [
      "We can extend this approach to (much) more complex problems.  In tight-binding, we can include more orbitals on each atom (often using higher angular momentum, though we can include more than one function for each angular momentum channel), and more atoms in the cell.  Then we tend to form sums over each basis function (as we did to make $\\mid k \\rangle$ above) and then calculate or fit Hamiltonian matrix elements in terms of these functions.  From this Hamiltonian, we can calculate the eigenstates of the system by diagonalisation, and then find the total energy by integrating over k (normally numerically).\n",
      "\n",
      "\\begin{eqnarray}\n",
      "\\mid i\\alpha_{\\mathbf{k}}\\rangle &=& \\frac{1}{\\sqrt{N}}\\sum_n e^{i\\mathbf{k}\\cdot\\mathbf{a}_n} \\mid i\\alpha_n\\rangle\\\\\n",
      "H_{i\\alpha j\\beta}^{\\mathbf{k}} &=& \\langle i\\alpha_{\\mathbf{k}} \\mid \\hat{H} \\mid j\\beta_{\\mathbf{k}}\\rangle\\\\\n",
      "\\mid \\psi_{n\\mathbf{k}}\\rangle &=& \\sum_{i\\alpha} c^{n\\mathbf{k}}_{i\\alpha} \\mid i\\alpha_{\\mathbf{k}}\\rangle\\\\\n",
      "H_{i\\alpha j\\beta}^{\\mathbf{k}} \\mid \\psi_{n\\mathbf{k}}\\rangle &=& \\epsilon_{n\\mathbf{k}} \\mid \\psi_{n\\mathbf{k}}\\rangle\n",
      "\\end{eqnarray}"
     ]
    },
    {
     "cell_type": "markdown",
     "metadata": {},
     "source": [
      "Given a set of points in the Brillouin zone, we can solve for the the eigenvalues and eigenstates, and hence the total energy of the system.  We can also calculate the way that the Hamiltonian matrix elements will vary as the ions move, which gives us the forces, and will allow calculations to find the lowest energy structures (structural relaxation) or dynamic quantities (molecular dynamics)."
     ]
    },
    {
     "cell_type": "code",
     "collapsed": false,
     "input": [],
     "language": "python",
     "metadata": {},
     "outputs": []
    }
   ],
   "metadata": {}
  }
 ]
}